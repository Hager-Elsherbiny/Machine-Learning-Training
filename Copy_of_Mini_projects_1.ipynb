{
  "nbformat": 4,
  "nbformat_minor": 0,
  "metadata": {
    "colab": {
      "name": "Copy of Mini-projects 1.ipynb",
      "provenance": [],
      "include_colab_link": true
    },
    "kernelspec": {
      "name": "python3",
      "display_name": "Python 3"
    }
  },
  "cells": [
    {
      "cell_type": "markdown",
      "metadata": {
        "id": "view-in-github",
        "colab_type": "text"
      },
      "source": [
        "<a href=\"https://colab.research.google.com/github/Hager-Elsherbiny/Machine-Learning-Training/blob/main/Copy_of_Mini_projects_1.ipynb\" target=\"_parent\"><img src=\"https://colab.research.google.com/assets/colab-badge.svg\" alt=\"Open In Colab\"/></a>"
      ]
    },
    {
      "cell_type": "markdown",
      "metadata": {
        "id": "B9eGwytUa-hh"
      },
      "source": [
        "**1. Areas of Rectangles** <br>\n",
        "The area of a rectangle is the rectangle’s length times its width. Write a program that asks\n",
        "\n",
        "for the length and width of two rectangles. The program should tell the user which rectan-\n",
        "gle has the greater area, or if the areas are the same.\n",
        "\n"
      ]
    },
    {
      "cell_type": "code",
      "metadata": {
        "id": "nEdoqypmam6P"
      },
      "source": [
        "lenth_1 = float(input(\"Enter the lenth of  first rectangle:\"))\n",
        "width_1 = float(input(\"Enter the width of  first rectangle:\"))\n",
        "area_1 = lenth_1 * width_1\n",
        "print(area_1)\n",
        "lenth_2 = float(input(\"Enter the lenth of  second rectangle:\"))\n",
        "width_2 = float(input(\"Enter the width of second rectangle:\"))\n",
        "area_2 = lenth_2 * width_2\n",
        "print(area_2)\n",
        "if area_1 > area_2:\n",
        "    print(\"the area of firt rectangel is grater\")\n",
        "if area_2 > area_1:\n",
        "    print(\"the area of second rectangel is grater\")\n",
        "else:\n",
        "    print(\"The area of two rectangels are the same\")"
      ],
      "execution_count": null,
      "outputs": []
    },
    {
      "cell_type": "code",
      "metadata": {
        "id": "FSe70DMOb2re"
      },
      "source": [
        ""
      ],
      "execution_count": null,
      "outputs": []
    },
    {
      "cell_type": "markdown",
      "metadata": {
        "id": "j7nk-1gRb3Df"
      },
      "source": [
        ""
      ]
    },
    {
      "cell_type": "code",
      "metadata": {
        "id": "JjmvAhHWfBS5"
      },
      "source": [
        "pocket_number = int(input(\"Enter the pocket number: \"))\n",
        "if pocket_number > 0 and pocket_number <= 36:\n",
        "\tcolor = \"error\"\n",
        "elif pocket_numner == 0:\n",
        "\tcolor = \"green\"\n",
        "\n",
        "elif pocket_number > 10 and pocket_number <= 18 :\n",
        "\tif pocket_number % 2 == 0 :\n",
        "\t\tcolor = \"black\"\n",
        "\telse :\n",
        "\t\tcolor = \"red\"\n",
        "\n",
        "elif pocket_number > 18 and pocket_number <= 28 :\n",
        "\tif pocket_number % 2 == 0 :\n",
        "\t\tcolor = \"black\"\n",
        "\telse :\n",
        "\t\tcolor = \"red\"\n",
        "\n",
        "elif pocket_nmber > 28 and pocket_number <= 36 :\n",
        "\tif pocket_number % 2 == 0 :\n",
        "\t\tcolor = \"red\"\n",
        "\telse : \n",
        "\t\tcolor = \"black\"\n",
        "\n",
        "if color == \"error\" :\n",
        "\tprint(\"Error: that not a valid pocket number\")\n",
        "else : \n",
        "\tprint(\"the color of pocket is\", color )"
      ],
      "execution_count": null,
      "outputs": []
    },
    {
      "cell_type": "code",
      "metadata": {
        "id": "VvAYl1yyb4m5"
      },
      "source": [
        ""
      ],
      "execution_count": null,
      "outputs": []
    },
    {
      "cell_type": "code",
      "metadata": {
        "id": "LbKOJwkXb4pw"
      },
      "source": [
        ""
      ],
      "execution_count": null,
      "outputs": []
    },
    {
      "cell_type": "markdown",
      "metadata": {
        "id": "rSNYGZohb445"
      },
      "source": [
        "**3. Body Mass Index** <br>\n",
        "Write a program that calculates and displays a person’s body mass index (BMI). The BMI\n",
        "is often used to determine whether a person is overweight or underweight for his or her\n",
        "height. A person’s BMI is calculated with the following formula:<br>\n",
        "$BMI = weight * 703/height^2$\n",
        "\n",
        "where weight is measured in pounds and height is measured in inches. The program should ask the user to enter his or her weight and height and then display the user’s BMI.\n",
        "The program should also display a message indicating whether the person has optimal weight, is underweight, or is overweight. A person’s weight is considered to be optimal if his or her BMI is between 18.5 and 25. If the BMI is less than 18.5, the person is con-\n",
        "sidered to be underweight. If the BMI value is greater than 25, the person is considered to be overweight."
      ]
    },
    {
      "cell_type": "code",
      "metadata": {
        "id": "cTFJcibIdLoB"
      },
      "source": [
        "weight = float(input(\"Enter weight (in pounds): \"))\n",
        "height = float(input(\"Enter height (in inches): \"))\n",
        "\n",
        "\n",
        "BMI = (weight * (703 / (height**2)))\n",
        "\n",
        "if BMI >= 18.5 and BMI <= 25:\n",
        "    print(\"Your weight is optimal weight\")\n",
        "elif BMI < 18.5:\n",
        "    print(\"Your weight is underweight\")\n",
        "elif BMI > 25:\n",
        "    print(\"Your weight is overweight\")"
      ],
      "execution_count": null,
      "outputs": []
    },
    {
      "cell_type": "code",
      "metadata": {
        "id": "OJCcIFM4dD-5"
      },
      "source": [
        ""
      ],
      "execution_count": null,
      "outputs": []
    },
    {
      "cell_type": "code",
      "metadata": {
        "id": "ry3UJEyYdEBU"
      },
      "source": [
        ""
      ],
      "execution_count": null,
      "outputs": []
    }
  ]
}